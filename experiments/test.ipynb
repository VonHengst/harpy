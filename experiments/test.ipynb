{
 "cells": [
  {
   "cell_type": "code",
   "execution_count": 2,
   "metadata": {},
   "outputs": [
    {
     "name": "stdout",
     "output_type": "stream",
     "text": [
      "The autoreload extension is already loaded. To reload it, use:\n",
      "  %reload_ext autoreload\n"
     ]
    }
   ],
   "source": [
    "%load_ext autoreload\n",
    "%autoreload 2\n",
    "\n",
    "import pandas as pd\n",
    "import numpy as np\n",
    "import squidpy as sq\n",
    "from skimage import io\n",
    "import scanpy as sc\n",
    "import time\n",
    "import os\n",
    "from dotenv import load_dotenv"
   ]
  },
  {
   "cell_type": "code",
   "execution_count": 3,
   "metadata": {},
   "outputs": [
    {
     "name": "stderr",
     "output_type": "stream",
     "text": [
      "the value of the environment variable BASIC_DCT_BACKEND is not in [\"JAX\",\"SCIPY\"]\n"
     ]
    }
   ],
   "source": [
    "from napari_spongepy import functions as fc"
   ]
  },
  {
   "cell_type": "code",
   "execution_count": 4,
   "metadata": {},
   "outputs": [],
   "source": [
    "# Path prefix for the data folder, use variable from .env file or default\n",
    "DATA_PATH_PREFIX = os.getenv(\"DATA_PATH_PREFIX\", default=\"../data\")\n",
    "SMALL_IMAGE = os.getenv(\"SMALL_IMAGE\", default=\"False\") in [\"True\", \"true\", \"t\"]\n",
    "DEVICE = os.getenv(\"DEVICE\", default=\"cuda:4\")\n",
    "\n",
    "name_slide = \"A1-1\"\n",
    "path_coordinates = DATA_PATH_PREFIX + \"/resolve_liver/20272_slide1_\" + name_slide + \"_results.txt\"\n",
    "path_image = DATA_PATH_PREFIX + \"/resolve_liver/20272_slide1_\" + name_slide + \"_DAPI.tiff\"\n",
    "\n",
    "img = io.imread(path_image)\n",
    "ic = sq.im.ImageContainer(img)"
   ]
  },
  {
   "cell_type": "code",
   "execution_count": 5,
   "metadata": {},
   "outputs": [
    {
     "ename": "",
     "evalue": "",
     "output_type": "error",
     "traceback": [
      "\u001b[1;31mCanceled future for execute_request message before replies were done"
     ]
    },
    {
     "ename": "",
     "evalue": "",
     "output_type": "error",
     "traceback": [
      "\u001b[1;31mThe Kernel crashed while executing code in the the current cell or a previous cell. Please review the code in the cell(s) to identify a possible cause of the failure. Click <a href='https://aka.ms/vscodeJupyterKernelCrash'>here</a> for more info. View Jupyter <a href='command:jupyter.viewOutput'>log</a> for further details."
     ]
    }
   ],
   "source": [
    "ic_correct, flatfield = fc.tilingCorrection(img=ic, left_corner=[2144, 2144] if SMALL_IMAGE else None, size=[2144, 2144] if SMALL_IMAGE else None)\n",
    "fc.tilingCorrectionPlot(ic_correct.data.image.squeeze().to_numpy(), flatfield, img)"
   ]
  },
  {
   "cell_type": "code",
   "execution_count": null,
   "metadata": {},
   "outputs": [],
   "source": [
    "crd = [3000, 6000, 5000, 9000] # a small subset of interest for visualization purposes.\n",
    "\n",
    "if SMALL_IMAGE:\n",
    "    # Smaller crd for demo purposes\n",
    "    crd = [2000, 4000, 2000, 4000]\n",
    "t0 = time.time()\n",
    "ic_preproces = fc.preprocessImage(img=ic_correct, size_tophat=45, contrast_clip=3.5)\n",
    "print(time.time() - t0)\n",
    "fc.preprocessImagePlot(ic_preproces.data.image.squeeze().to_numpy(), ic_correct.data.image.squeeze().to_numpy(), small_size_vis=crd)"
   ]
  },
  {
   "cell_type": "code",
   "execution_count": null,
   "metadata": {},
   "outputs": [],
   "source": [
    "img_preproces = ic_preproces.data.image.squeeze().to_numpy()\n",
    "t0 = time.time()\n",
    "masks, mask_i, polygons = fc.segmentation(img_preproces, device=DEVICE, cellprob_threshold=-4, flow_threshold=0.9, diameter=50, model_type=\"nuclei\")\n",
    "print(time.time() - t0)\n",
    "fc.segmentationPlot(img_preproces, mask_i, polygons, small_size_vis=crd)"
   ]
  },
  {
   "cell_type": "code",
   "execution_count": null,
   "metadata": {},
   "outputs": [],
   "source": [
    "adata = fc.create_adata_quick(path_coordinates, ic_preproces, masks)\n",
    "fc.plot_shapes(adata)"
   ]
  },
  {
   "cell_type": "code",
   "execution_count": null,
   "metadata": {},
   "outputs": [],
   "source": [
    "adata, adata_orig = fc.preprocessAdata(adata, masks)\n",
    "fc.preprocesAdataPlot(adata, adata_orig)"
   ]
  },
  {
   "cell_type": "code",
   "execution_count": null,
   "metadata": {},
   "outputs": [],
   "source": [
    "adata, filtered = fc.filter_on_size(adata, min_size=500)\n",
    "print(str(filtered) + \" cells were filtered out based on size.\")"
   ]
  },
  {
   "cell_type": "code",
   "execution_count": null,
   "metadata": {},
   "outputs": [],
   "source": [
    "adata = fc.extract(sq.ImageContainer(img), adata)\n",
    "adata.obsm[\"segmentation_features\"].head()\n",
    "\n",
    "# plot segmentation features\n",
    "sc.pl.spatial(\n",
    "    sq.pl.extract(adata, \"segmentation_features\"),\n",
    "    color=[\n",
    "        \"segmentation_label\",\n",
    "        \"segmentation_area_mean\",\n",
    "    ],\n",
    "    bw=True,\n",
    "    ncols=2,\n",
    "    vmin=\"p1\",\n",
    "    vmax=\"p99\",\n",
    ")"
   ]
  }
 ],
 "metadata": {
  "kernelspec": {
   "display_name": "Python 3.10.6 ('napari-spongepy')",
   "language": "python",
   "name": "python3"
  },
  "language_info": {
   "codemirror_mode": {
    "name": "ipython",
    "version": 3
   },
   "file_extension": ".py",
   "mimetype": "text/x-python",
   "name": "python",
   "nbconvert_exporter": "python",
   "pygments_lexer": "ipython3",
   "version": "3.10.6"
  },
  "orig_nbformat": 4,
  "vscode": {
   "interpreter": {
    "hash": "20420c8329320005ac547671395945f526df102965543c7e4408364b40628f04"
   }
  }
 },
 "nbformat": 4,
 "nbformat_minor": 2
}
