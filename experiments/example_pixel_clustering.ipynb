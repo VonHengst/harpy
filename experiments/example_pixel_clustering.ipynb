{
 "cells": [
  {
   "cell_type": "code",
   "execution_count": null,
   "metadata": {},
   "outputs": [],
   "source": [
    "%load_ext autoreload\n",
    "%autoreload 2"
   ]
  },
  {
   "cell_type": "code",
   "execution_count": null,
   "metadata": {},
   "outputs": [],
   "source": [
    "import sparrow as sp"
   ]
  },
  {
   "cell_type": "code",
   "execution_count": null,
   "metadata": {},
   "outputs": [],
   "source": [
    "import os\n",
    "\n",
    "from sparrow.table.pixel_clustering._cluster_intensity import _export_to_ark_format\n",
    "\n",
    "path=\"/Users/arnedf/VIB/DATA/ark_analysis\"\n",
    "output_file=os.path.join( path, \"average_intensities_SOM_clusters.csv\" )\n",
    "\n",
    "sdata = sp.datasets.cluster_blobs(\n",
    "        shape=(512, 512), n_cell_types=10, n_cells=100, noise_level_channels=1.2, noise_level_nuclei=1.2, seed=10\n",
    "    )\n",
    "\n",
    "img_layer = \"blobs_image\"\n",
    "channels = [\"lineage_0\", \"lineage_1\", \"lineage_5\", \"lineage_9\"]\n",
    "\n",
    "sdata=sp.im.pixel_clustering_preprocess(\n",
    "    sdata,\n",
    "    img_layer=[ img_layer  ],\n",
    "    output_layer=[ f\"{img_layer}_preprocessed\" ],\n",
    "    channels=channels,\n",
    "    chunks=512,\n",
    "    overwrite=True,\n",
    "    sigma=0.0,\n",
    ")\n",
    "\n",
    "sdata, fsom, mapping=sp.im.flowsom(\n",
    "    sdata,\n",
    "    img_layer=[ f\"{img_layer}_preprocessed\" ],\n",
    "    output_layer_clusters=[ f\"{img_layer}_flowsom_clusters\" ],\n",
    "    output_layer_metaclusters=[ f\"{img_layer}_flowsom_metaclusters\" ],\n",
    "    n_clusters=20,\n",
    "    random_state=111,\n",
    "    fraction=0.5,\n",
    "    chunks=512,\n",
    "    overwrite=True,\n",
    " )\n",
    "\n",
    "sdata=sp.tb.cluster_intensity(\n",
    "    sdata,\n",
    "    mapping=mapping,\n",
    "    img_layer=f\"{img_layer}_preprocessed\",\n",
    "    labels_layer=f\"{img_layer}_flowsom_clusters\",\n",
    "    output_layer=\"counts_clusters\",\n",
    "    overwrite=True,\n",
    "        )\n",
    "\n",
    "df=_export_to_ark_format( adata=sdata[ \"counts_clusters\" ], output=output_file )"
   ]
  },
  {
   "cell_type": "code",
   "execution_count": null,
   "metadata": {},
   "outputs": [],
   "source": [
    "df.head()"
   ]
  },
  {
   "cell_type": "markdown",
   "metadata": {},
   "source": [
    "Next in an environment where ark is installed run the following cell in a jupyter notebook:"
   ]
  },
  {
   "cell_type": "code",
   "execution_count": null,
   "metadata": {},
   "outputs": [],
   "source": [
    "%matplotlib widget\n",
    "\n",
    "import matplotlib.pyplot as plt\n",
    "from ark.utils.metacluster_remap_gui import MetaClusterGui, metaclusterdata_from_files\n",
    "from matplotlib import rc_file_defaults\n",
    "\n",
    "rc_file_defaults()\n",
    "plt.ion()\n",
    "\n",
    "\n",
    "pixel_mcd = metaclusterdata_from_files(\n",
    "    output_file,\n",
    "    cluster_type='pixel'\n",
    ")\n",
    "pixel_mcd.output_mapping_filename = os.path.join(path, \"pixel_meta_cluster_mapping.csv\" )\n",
    "pixel_mcg = MetaClusterGui(pixel_mcd, width=17)"
   ]
  }
 ],
 "metadata": {
  "kernelspec": {
   "display_name": "harpy",
   "language": "python",
   "name": "python3"
  },
  "language_info": {
   "codemirror_mode": {
    "name": "ipython",
    "version": 3
   },
   "file_extension": ".py",
   "mimetype": "text/x-python",
   "name": "python",
   "nbconvert_exporter": "python",
   "pygments_lexer": "ipython3",
   "version": "3.10.8"
  }
 },
 "nbformat": 4,
 "nbformat_minor": 2
}
